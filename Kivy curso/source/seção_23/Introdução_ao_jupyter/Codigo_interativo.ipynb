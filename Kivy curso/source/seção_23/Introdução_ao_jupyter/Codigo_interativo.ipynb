{
 "cells": [
  {
   "cell_type": "code",
   "execution_count": null,
   "id": "0ad85b2a",
   "metadata": {},
   "outputs": [],
   "source": [
    "# importação dos pacotes e das classes\n",
    "\n",
    "from kivy.app import App\n",
    "from kivy.uix.widget import Widget\n",
    "from kivy.interactive import InteractiveLauncher\n",
    "\n",
    "# alteração da exibição\n",
    "\n",
    "from kivy.config import Config\n",
    "Config.set('graphics', 'fullscreen', '0')\n"
   ]
  },
  {
   "cell_type": "code",
   "execution_count": null,
   "id": "e08c4604",
   "metadata": {},
   "outputs": [],
   "source": [
    "# classe da nossa aplicação\n",
    "\n",
    "class EstudoApp(App):\n",
    "    def build(self):\n",
    "        return Widget()"
   ]
  },
  {
   "cell_type": "code",
   "execution_count": null,
   "id": "4b3e8a69",
   "metadata": {},
   "outputs": [],
   "source": [
    "# criar instância da EstudoApp()\n",
    "\n",
    "e = EstudoApp()\n",
    "ji = InteractiveLauncher(e)\n",
    "ji.run()"
   ]
  },
  {
   "cell_type": "code",
   "execution_count": null,
   "id": "5bc5fc7b",
   "metadata": {},
   "outputs": [],
   "source": [
    "from kivy.uix.button import Button\n",
    "bt = Button(text='Curso')"
   ]
  },
  {
   "cell_type": "code",
   "execution_count": null,
   "id": "120045f8",
   "metadata": {},
   "outputs": [],
   "source": [
    "ji.root.add_widget(bt)"
   ]
  },
  {
   "cell_type": "code",
   "execution_count": null,
   "id": "9ae99148",
   "metadata": {},
   "outputs": [],
   "source": [
    "bt.text = 'Olá'"
   ]
  },
  {
   "cell_type": "code",
   "execution_count": null,
   "id": "c38939bf",
   "metadata": {},
   "outputs": [],
   "source": [
    "def bt_click():\n",
    "    print('Hello World')"
   ]
  },
  {
   "cell_type": "code",
   "execution_count": null,
   "id": "7f46829d",
   "metadata": {},
   "outputs": [],
   "source": [
    "bt.on_press = bt_click"
   ]
  },
  {
   "cell_type": "code",
   "execution_count": null,
   "id": "1d4f0b29",
   "metadata": {},
   "outputs": [],
   "source": []
  }
 ],
 "metadata": {
  "kernelspec": {
   "display_name": "Python 3 (ipykernel)",
   "language": "python",
   "name": "python3"
  },
  "language_info": {
   "codemirror_mode": {
    "name": "ipython",
    "version": 3
   },
   "file_extension": ".py",
   "mimetype": "text/x-python",
   "name": "python",
   "nbconvert_exporter": "python",
   "pygments_lexer": "ipython3",
   "version": "3.8.10"
  }
 },
 "nbformat": 4,
 "nbformat_minor": 5
}
