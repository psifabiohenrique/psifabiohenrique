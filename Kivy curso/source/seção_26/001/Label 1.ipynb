{
 "cells": [
  {
   "cell_type": "code",
   "execution_count": null,
   "id": "df148f83",
   "metadata": {},
   "outputs": [],
   "source": [
    "import kivy\n",
    "from kivy.app import App\n",
    "from kivy.uix.button import Button\n",
    "from kivy.interactive import InteractiveLauncher\n",
    "from kivy.lang import Builder\n",
    "from kivy.uix.label import Label\n",
    "\n",
    "\n",
    "from kivy.config import Config\n",
    "Config.set(\"graphics\", \"fullscreen\", \"0\")\n",
    "\n",
    "janela = None\n",
    "glayout = None"
   ]
  },
  {
   "cell_type": "code",
   "execution_count": null,
   "id": "12d0ced4",
   "metadata": {},
   "outputs": [],
   "source": [
    "class JanelaApp(App):\n",
    "    pass\n",
    "\n",
    "janela = JanelaApp()\n",
    "ji = InteractiveLauncher(janela)\n",
    "ji.run()\n",
    "\n"
   ]
  },
  {
   "cell_type": "code",
   "execution_count": null,
   "id": "072efa72",
   "metadata": {},
   "outputs": [],
   "source": [
    "kvcode = '''\n",
    "StackLayout:\n",
    "    orientation: \"tb-lr\"\n",
    "    padding: 50\n",
    "    \n",
    "'''\n",
    "    \n",
    "glayout = Builder.load_string(kvcode)\n",
    "janela.root_window.add_widget(glayout)\n"
   ]
  },
  {
   "cell_type": "code",
   "execution_count": null,
   "id": "092c30be",
   "metadata": {},
   "outputs": [],
   "source": [
    "def add_lb(**args):\n",
    "    lb = Label(text='Estudando a classe Label',\n",
    "              size_hint_y= None,\n",
    "              height= 50,\n",
    "              **args)\n",
    "    glayout.add_widget(lb)\n",
    "    return lb"
   ]
  },
  {
   "cell_type": "code",
   "execution_count": null,
   "id": "408a7f91",
   "metadata": {},
   "outputs": [],
   "source": [
    "#font_size determina o tamanho da fonte\n",
    "add_lb().font_size = 10"
   ]
  },
  {
   "cell_type": "code",
   "execution_count": null,
   "id": "b9041f2a",
   "metadata": {},
   "outputs": [],
   "source": [
    "#font_name determina a fonte do texto\n",
    "x = add_lb()\n",
    "x.font_name = 'consola'"
   ]
  },
  {
   "cell_type": "code",
   "execution_count": null,
   "id": "14573ad3",
   "metadata": {},
   "outputs": [],
   "source": [
    "#bold = negrito\n",
    "add_lb().bold = True"
   ]
  },
  {
   "cell_type": "code",
   "execution_count": null,
   "id": "0192d827",
   "metadata": {},
   "outputs": [],
   "source": [
    "\n",
    "add_lb().italic = True"
   ]
  },
  {
   "cell_type": "code",
   "execution_count": null,
   "id": "fae80764",
   "metadata": {},
   "outputs": [],
   "source": [
    "\n",
    "add_lb(font_size=20).color = .1, .2, .3, 1"
   ]
  },
  {
   "cell_type": "code",
   "execution_count": null,
   "id": "92172ff5",
   "metadata": {},
   "outputs": [],
   "source": [
    "add_lb(font_size=30).disabled= True"
   ]
  },
  {
   "cell_type": "code",
   "execution_count": null,
   "id": "98eaad0d",
   "metadata": {},
   "outputs": [],
   "source": [
    "txt = \\\n",
    "\"\"\"1 - aaa bbb ccc ddd\n",
    "2 - aaa bbb ccc ddd\n",
    "3 - aaa bbb ccc ddd\n",
    "4 - aaa bbb ccc ddd\n",
    "5 - aaa bbb ccc ddd\n",
    "6 - aaa bbb ccc ddd\n",
    "7 - aaa bbb ccc ddd\"\"\""
   ]
  },
  {
   "cell_type": "code",
   "execution_count": null,
   "id": "40bd9af4",
   "metadata": {},
   "outputs": [],
   "source": [
    "x = add_lb()\n",
    "x.text = txt"
   ]
  },
  {
   "cell_type": "code",
   "execution_count": null,
   "id": "0508e653",
   "metadata": {},
   "outputs": [],
   "source": [
    "lb = add_lb()\n",
    "lb.text = txt\n",
    "lb.line_height = 2"
   ]
  },
  {
   "cell_type": "code",
   "execution_count": null,
   "id": "4cda09dc",
   "metadata": {},
   "outputs": [],
   "source": [
    "lb = add_lb()\n",
    "lb.text = txt\n",
    "lb.color = .1, 1., .1, 1\n",
    "lb.max_lines = 3"
   ]
  }
 ],
 "metadata": {
  "kernelspec": {
   "display_name": "Python 3 (ipykernel)",
   "language": "python",
   "name": "python3"
  },
  "language_info": {
   "codemirror_mode": {
    "name": "ipython",
    "version": 3
   },
   "file_extension": ".py",
   "mimetype": "text/x-python",
   "name": "python",
   "nbconvert_exporter": "python",
   "pygments_lexer": "ipython3",
   "version": "3.8.11"
  }
 },
 "nbformat": 4,
 "nbformat_minor": 5
}
