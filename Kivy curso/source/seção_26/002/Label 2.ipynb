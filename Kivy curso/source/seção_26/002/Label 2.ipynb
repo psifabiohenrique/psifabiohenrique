{
 "cells": [
  {
   "cell_type": "code",
   "execution_count": null,
   "id": "df148f83",
   "metadata": {},
   "outputs": [],
   "source": [
    "import kivy\n",
    "from kivy.app import App\n",
    "from kivy.uix.button import Button\n",
    "from kivy.interactive import InteractiveLauncher\n",
    "from kivy.lang import Builder\n",
    "from kivy.uix.label import Label\n",
    "\n",
    "\n",
    "from kivy.config import Config\n",
    "Config.set(\"graphics\", \"fullscreen\", \"0\")\n",
    "\n",
    "janela = None\n",
    "glayout = None"
   ]
  },
  {
   "cell_type": "code",
   "execution_count": null,
   "id": "12d0ced4",
   "metadata": {},
   "outputs": [],
   "source": [
    "class JanelaApp(App):\n",
    "    pass\n",
    "\n",
    "janela = JanelaApp()\n",
    "ji = InteractiveLauncher(janela)\n",
    "ji.run()\n",
    "\n"
   ]
  },
  {
   "cell_type": "code",
   "execution_count": null,
   "id": "072efa72",
   "metadata": {},
   "outputs": [],
   "source": [
    "kvcode = '''\n",
    "StackLayout:\n",
    "    orientation: \"tb-lr\"\n",
    "    padding: 50\n",
    "    \n",
    "'''\n",
    "    \n",
    "glayout = Builder.load_string(kvcode)\n",
    "janela.root_window.add_widget(glayout)\n"
   ]
  },
  {
   "cell_type": "code",
   "execution_count": null,
   "id": "092c30be",
   "metadata": {},
   "outputs": [],
   "source": [
    "def add_lb(**args):\n",
    "    lb = Label(size_hint_y= None,\n",
    "                font_size=20,\n",
    "              height= 50,\n",
    "              **args)\n",
    "    glayout.add_widget(lb)\n",
    "    return lb"
   ]
  },
  {
   "cell_type": "code",
   "execution_count": null,
   "id": "a06095e6",
   "metadata": {},
   "outputs": [],
   "source": [
    "add_lb(markup=True).text=\\\n",
    "'Estudando a [b]classe[/b] label'"
   ]
  },
  {
   "cell_type": "code",
   "execution_count": null,
   "id": "cdbdec47",
   "metadata": {},
   "outputs": [],
   "source": [
    "add_lb(markup=True).text=\\\n",
    "'Estudando a classe [i]label[/i]'"
   ]
  },
  {
   "cell_type": "code",
   "execution_count": null,
   "id": "07b4673b",
   "metadata": {},
   "outputs": [],
   "source": [
    "add_lb(markup=True).text=\\\n",
    "'Estudando a classe [u]label[/u]'"
   ]
  },
  {
   "cell_type": "code",
   "execution_count": null,
   "id": "61e12138",
   "metadata": {},
   "outputs": [],
   "source": [
    "add_lb(markup=True).text=\\\n",
    "'Estudando a classe [s]label[/s]'"
   ]
  },
  {
   "cell_type": "code",
   "execution_count": null,
   "id": "4b70a8a6",
   "metadata": {},
   "outputs": [],
   "source": [
    "add_lb(markup=True).text=\\\n",
    "'Estudando a classe [size=50]label[/size]'"
   ]
  },
  {
   "cell_type": "code",
   "execution_count": null,
   "id": "0f9e3711",
   "metadata": {},
   "outputs": [],
   "source": [
    "add_lb(markup=True).text=\\\n",
    "'Estudando a classe [color=ff3333]label[/color]'"
   ]
  },
  {
   "cell_type": "code",
   "execution_count": null,
   "id": "083df29f",
   "metadata": {},
   "outputs": [],
   "source": [
    "add_lb(markup=True).text=\\\n",
    "'Estudando a [sub]classe[/sub] [sup]label[/sup]'"
   ]
  }
 ],
 "metadata": {
  "kernelspec": {
   "display_name": "Python 3 (ipykernel)",
   "language": "python",
   "name": "python3"
  },
  "language_info": {
   "codemirror_mode": {
    "name": "ipython",
    "version": 3
   },
   "file_extension": ".py",
   "mimetype": "text/x-python",
   "name": "python",
   "nbconvert_exporter": "python",
   "pygments_lexer": "ipython3",
   "version": "3.8.11"
  }
 },
 "nbformat": 4,
 "nbformat_minor": 5
}
