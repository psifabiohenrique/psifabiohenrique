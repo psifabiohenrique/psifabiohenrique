{
 "cells": [
  {
   "cell_type": "code",
   "execution_count": null,
   "id": "df148f83",
   "metadata": {},
   "outputs": [],
   "source": [
    "import kivy\n",
    "from kivy.app import App\n",
    "from kivy.uix.button import Button\n",
    "from kivy.interactive import InteractiveLauncher\n",
    "from kivy.lang import Builder\n",
    "\n",
    "\n",
    "from kivy.config import Config\n",
    "Config.set(\"graphics\", \"fullscreen\", \"0\")\n",
    "\n",
    "janela = None\n",
    "glayout = None"
   ]
  },
  {
   "cell_type": "code",
   "execution_count": null,
   "id": "12d0ced4",
   "metadata": {},
   "outputs": [],
   "source": [
    "class JanelaApp(App):\n",
    "    pass\n",
    "\n",
    "janela = JanelaApp()\n",
    "ji = InteractiveLauncher(janela)\n",
    "ji.run()\n",
    "\n"
   ]
  },
  {
   "cell_type": "code",
   "execution_count": null,
   "id": "072efa72",
   "metadata": {},
   "outputs": [],
   "source": [
    "kvcode = '''\n",
    "BoxLayout:\n",
    "    Button:\n",
    "        size_hint: .1, .1\n",
    "        pos_hint: {\"x\": .3, \"top\": 1.}\n",
    "        text: \"A\"\n",
    "    Button:\n",
    "        size_hint: .1, .1\n",
    "        pos_hint: {\"x\": .3, \"top\": 1.}\n",
    "        text: \"B\"\n",
    "    Button:\n",
    "        size_hint: .1, .1\n",
    "        pos_hint: {\"x\": .3, \"top\": 1.}\n",
    "        text: \"C\"\n",
    "'''\n",
    "    \n",
    "glayout = Builder.load_string(kvcode)\n",
    "janela.root_window.add_widget(glayout)\n"
   ]
  },
  {
   "cell_type": "code",
   "execution_count": null,
   "id": "092c30be",
   "metadata": {},
   "outputs": [],
   "source": [
    "def add_bt(**args):\n",
    "    bt = Button(text= 'Estudando a classe Button',\n",
    "                   size_hint_y= None,\n",
    "                   height= 50,\n",
    "                   markup= True,\n",
    "                   **args)\n",
    "    glayo"
   ]
  },
  {
   "cell_type": "code",
   "execution_count": null,
   "id": "408a7f91",
   "metadata": {},
   "outputs": [],
   "source": []
  },
  {
   "cell_type": "code",
   "execution_count": null,
   "id": "b9041f2a",
   "metadata": {},
   "outputs": [],
   "source": []
  },
  {
   "cell_type": "code",
   "execution_count": null,
   "id": "14573ad3",
   "metadata": {},
   "outputs": [],
   "source": []
  }
 ],
 "metadata": {
  "kernelspec": {
   "display_name": "Python 3 (ipykernel)",
   "language": "python",
   "name": "python3"
  },
  "language_info": {
   "codemirror_mode": {
    "name": "ipython",
    "version": 3
   },
   "file_extension": ".py",
   "mimetype": "text/x-python",
   "name": "python",
   "nbconvert_exporter": "python",
   "pygments_lexer": "ipython3",
   "version": "3.8.11"
  }
 },
 "nbformat": 4,
 "nbformat_minor": 5
}
