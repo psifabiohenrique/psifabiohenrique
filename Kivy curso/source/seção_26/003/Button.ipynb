{
 "cells": [
  {
   "cell_type": "code",
   "execution_count": null,
   "id": "df148f83",
   "metadata": {},
   "outputs": [],
   "source": [
    "import kivy\n",
    "from kivy.app import App\n",
    "from kivy.uix.button import Button\n",
    "from kivy.interactive import InteractiveLauncher\n",
    "from kivy.lang import Builder\n",
    "\n",
    "\n",
    "from kivy.config import Config\n",
    "Config.set(\"graphics\", \"fullscreen\", \"0\")\n",
    "\n",
    "janela = None\n",
    "glayout = None"
   ]
  },
  {
   "cell_type": "code",
   "execution_count": null,
   "id": "12d0ced4",
   "metadata": {},
   "outputs": [],
   "source": [
    "class JanelaApp(App):\n",
    "    pass\n",
    "\n",
    "janela = JanelaApp()\n",
    "ji = InteractiveLauncher(janela)\n",
    "ji.run()\n",
    "\n"
   ]
  },
  {
   "cell_type": "code",
   "execution_count": null,
   "id": "072efa72",
   "metadata": {},
   "outputs": [],
   "source": [
    "kvcode = '''\n",
    "StackLayout:\n",
    "\n",
    "'''\n",
    "    \n",
    "glayout = Builder.load_string(kvcode)\n",
    "janela.root_window.add_widget(glayout)\n"
   ]
  },
  {
   "cell_type": "code",
   "execution_count": null,
   "id": "092c30be",
   "metadata": {},
   "outputs": [],
   "source": [
    "def add_bt(**args):\n",
    "    bt = Button(text= 'Estudando a classe Button',\n",
    "                   size_hint_y= None,\n",
    "                       height= 50,\n",
    "                           markup= True,\n",
    "                               **args)\n",
    "    glayout.add_widget(bt)\n",
    "    return bt"
   ]
  },
  {
   "cell_type": "code",
   "execution_count": null,
   "id": "408a7f91",
   "metadata": {},
   "outputs": [],
   "source": [
    "#font_size: determina o tamanho da fonte\n",
    "add_bt().font_size = 30"
   ]
  },
  {
   "cell_type": "code",
   "execution_count": null,
   "id": "b9041f2a",
   "metadata": {},
   "outputs": [],
   "source": [
    "#font_name: determina a fonte do texto\n",
    "add_bt().font_name = 'consola'"
   ]
  },
  {
   "cell_type": "code",
   "execution_count": null,
   "id": "14573ad3",
   "metadata": {},
   "outputs": [],
   "source": [
    "#bold = negrito\n",
    "add_bt(font_size=22).bold=True"
   ]
  },
  {
   "cell_type": "code",
   "execution_count": null,
   "id": "d0ba42b4",
   "metadata": {},
   "outputs": [],
   "source": [
    "#italic = italico\n",
    "add_bt(font_size=22).italic=True"
   ]
  },
  {
   "cell_type": "code",
   "execution_count": null,
   "id": "a220da57",
   "metadata": {},
   "outputs": [],
   "source": [
    "#color: Cor de todo o texto\n",
    "add_bt().color= 1, .1, .1, 1"
   ]
  },
  {
   "cell_type": "code",
   "execution_count": null,
   "id": "15667cc1",
   "metadata": {},
   "outputs": [],
   "source": [
    "bt = add_bt()\n",
    "bt.markup = True\n",
    "bt.text = 'Esse [b]texto[/b] possui formatação!'"
   ]
  },
  {
   "cell_type": "code",
   "execution_count": null,
   "id": "079aab93",
   "metadata": {},
   "outputs": [],
   "source": [
    "def click(bt):\n",
    "    bt.text = 'on_press'\n",
    "def fim_click(bt):\n",
    "    bt.text = 'on_release'\n",
    "\n",
    "bt = add_bt()\n",
    "bt.bind(on_press= click)\n",
    "bt.bind(on_release= fim_click)"
   ]
  }
 ],
 "metadata": {
  "kernelspec": {
   "display_name": "Python 3 (ipykernel)",
   "language": "python",
   "name": "python3"
  },
  "language_info": {
   "codemirror_mode": {
    "name": "ipython",
    "version": 3
   },
   "file_extension": ".py",
   "mimetype": "text/x-python",
   "name": "python",
   "nbconvert_exporter": "python",
   "pygments_lexer": "ipython3",
   "version": "3.8.11"
  }
 },
 "nbformat": 4,
 "nbformat_minor": 5
}
